{
 "cells": [
  {
   "cell_type": "code",
   "execution_count": 93,
   "id": "c156afeb",
   "metadata": {},
   "outputs": [],
   "source": [
    "import random\n",
    "from collections import Counter\n",
    "import matplotlib.pyplot as plt\n",
    "from matplotlib.lines import Line2D"
   ]
  },
  {
   "cell_type": "code",
   "execution_count": 2,
   "id": "c1ff5711",
   "metadata": {},
   "outputs": [],
   "source": [
    "primer = 'ATT'\n",
    "bp_dic = {\n",
    "    'G':'C',\n",
    "    'C':'G',\n",
    "    'A':'T',\n",
    "    'T':'A'\n",
    "}\n",
    "\n",
    "template = 'GTAAGCTGCATA'"
   ]
  },
  {
   "cell_type": "code",
   "execution_count": 106,
   "id": "7d7ea406",
   "metadata": {},
   "outputs": [],
   "source": [
    "# find sequence of complementary strand\n",
    "complementary = ''\n",
    "for bp in template:\n",
    "    complementary = complementary + bp_dic[bp]\n",
    "    \n",
    "# find the first bp index to synthesize after primer annealing\n",
    "idx = complementary.index(primer) + len(primer)\n",
    "\n",
    "# elongate the strand from the primer, there is a 1/6 chance of a ddNTP (*) being incorporated, terminating the sequence\n",
    "def elongate(primer, complementary, idx):\n",
    "    sequence = primer\n",
    "    for bp in complementary[idx:]:\n",
    "        sequence = sequence + bp\n",
    "        roll = random.random()\n",
    "        if roll < (1/6):\n",
    "            sequence = sequence + '*'\n",
    "            return sequence\n",
    "    return sequence\n",
    "          \n",
    "        \n",
    "    "
   ]
  },
  {
   "cell_type": "code",
   "execution_count": 110,
   "id": "27264ce1",
   "metadata": {},
   "outputs": [
    {
     "data": {
      "text/plain": [
       "'ATTC*'"
      ]
     },
     "execution_count": 110,
     "metadata": {},
     "output_type": "execute_result"
    }
   ],
   "source": [
    "elongate(primer, complementary, idx)"
   ]
  },
  {
   "cell_type": "code",
   "execution_count": 111,
   "id": "8ed554f7",
   "metadata": {},
   "outputs": [],
   "source": [
    "# Now lets do this 100 times\n",
    "\n",
    "seq_list=[]\n",
    "for i in range(100):\n",
    "    seq_list.append(elongate(primer, complementary, idx))"
   ]
  },
  {
   "cell_type": "code",
   "execution_count": 112,
   "id": "58f32300",
   "metadata": {},
   "outputs": [
    {
     "data": {
      "text/plain": [
       "['ATTCGAC*',\n",
       " 'ATTCGA*',\n",
       " 'ATTCGAC*',\n",
       " 'ATTC*',\n",
       " 'ATTC*',\n",
       " 'ATTCG*',\n",
       " 'ATTCGA*',\n",
       " 'ATTC*',\n",
       " 'ATTCGACGTA*',\n",
       " 'ATTC*',\n",
       " 'ATTCGACGTAT',\n",
       " 'ATTCGACGTAT',\n",
       " 'ATTCGAC*',\n",
       " 'ATTCGACGTAT*',\n",
       " 'ATTCGA*',\n",
       " 'ATTCGA*',\n",
       " 'ATTCGACGTAT',\n",
       " 'ATTCG*',\n",
       " 'ATTCGA*',\n",
       " 'ATTCGACGT*',\n",
       " 'ATTCGA*',\n",
       " 'ATTCGACGTAT',\n",
       " 'ATTCGACGTAT',\n",
       " 'ATTCGACGTAT',\n",
       " 'ATTCGAC*',\n",
       " 'ATTCG*',\n",
       " 'ATTCG*',\n",
       " 'ATTCGACG*',\n",
       " 'ATTCGACGTAT',\n",
       " 'ATTCGA*',\n",
       " 'ATTCGACGTAT',\n",
       " 'ATTCGACGT*',\n",
       " 'ATTCGACGTAT',\n",
       " 'ATTCGACGTAT',\n",
       " 'ATTCGACGT*',\n",
       " 'ATTCGACGTAT',\n",
       " 'ATTCGACGTA*',\n",
       " 'ATTCGACGTAT',\n",
       " 'ATTCGAC*',\n",
       " 'ATTC*',\n",
       " 'ATTCGA*',\n",
       " 'ATTC*',\n",
       " 'ATTCGACGT*',\n",
       " 'ATTCGACGTA*',\n",
       " 'ATTCGACGTAT',\n",
       " 'ATTCGACGTA*',\n",
       " 'ATTCGA*',\n",
       " 'ATTCGAC*',\n",
       " 'ATTCGA*',\n",
       " 'ATTCGACGTAT',\n",
       " 'ATTCG*',\n",
       " 'ATTCGAC*',\n",
       " 'ATTCGACGTAT',\n",
       " 'ATTC*',\n",
       " 'ATTC*',\n",
       " 'ATTCGACGTAT',\n",
       " 'ATTC*',\n",
       " 'ATTCGACGTAT',\n",
       " 'ATTCGACG*',\n",
       " 'ATTC*',\n",
       " 'ATTCG*',\n",
       " 'ATTCGACGT*',\n",
       " 'ATTCG*',\n",
       " 'ATTCG*',\n",
       " 'ATTCGACGT*',\n",
       " 'ATTC*',\n",
       " 'ATTCGACG*',\n",
       " 'ATTCGACGTAT',\n",
       " 'ATTC*',\n",
       " 'ATTCG*',\n",
       " 'ATTCGACGTAT',\n",
       " 'ATTCGACGTAT',\n",
       " 'ATTCGAC*',\n",
       " 'ATTCGACGTAT',\n",
       " 'ATTCGACGT*',\n",
       " 'ATTCGACGTAT',\n",
       " 'ATTCGACGTAT',\n",
       " 'ATTCGACGT*',\n",
       " 'ATTCGACGTAT',\n",
       " 'ATTC*',\n",
       " 'ATTCG*',\n",
       " 'ATTCGAC*',\n",
       " 'ATTCGACGTAT',\n",
       " 'ATTCGACG*',\n",
       " 'ATTCGACG*',\n",
       " 'ATTC*',\n",
       " 'ATTCG*',\n",
       " 'ATTCGAC*',\n",
       " 'ATTCGACGTAT',\n",
       " 'ATTCGACGTAT',\n",
       " 'ATTC*',\n",
       " 'ATTCG*',\n",
       " 'ATTCGACG*',\n",
       " 'ATTC*',\n",
       " 'ATTCGACGTAT',\n",
       " 'ATTCGACGTAT',\n",
       " 'ATTCGACGT*',\n",
       " 'ATTCGACGTAT',\n",
       " 'ATTCGACGTA*',\n",
       " 'ATTCGA*']"
      ]
     },
     "execution_count": 112,
     "metadata": {},
     "output_type": "execute_result"
    }
   ],
   "source": [
    "seq_list"
   ]
  },
  {
   "cell_type": "code",
   "execution_count": 116,
   "id": "8ba52175",
   "metadata": {},
   "outputs": [
    {
     "data": {
      "text/plain": [
       "['ATTCGACGTAT*',\n",
       " 'ATTCGACGTA*',\n",
       " 'ATTCGACGTAT',\n",
       " 'ATTCGACGTAT',\n",
       " 'ATTCGACGTAT',\n",
       " 'ATTCGACGTAT',\n",
       " 'ATTCGACGTAT',\n",
       " 'ATTCGACGTAT',\n",
       " 'ATTCGACGTAT',\n",
       " 'ATTCGACGTAT',\n",
       " 'ATTCGACGTAT',\n",
       " 'ATTCGACGTAT',\n",
       " 'ATTCGACGTAT',\n",
       " 'ATTCGACGTAT',\n",
       " 'ATTCGACGTAT',\n",
       " 'ATTCGACGTAT',\n",
       " 'ATTCGACGTAT',\n",
       " 'ATTCGACGTAT',\n",
       " 'ATTCGACGTAT',\n",
       " 'ATTCGACGTA*',\n",
       " 'ATTCGACGTAT',\n",
       " 'ATTCGACGTA*',\n",
       " 'ATTCGACGTAT',\n",
       " 'ATTCGACGTA*',\n",
       " 'ATTCGACGTAT',\n",
       " 'ATTCGACGTAT',\n",
       " 'ATTCGACGTAT',\n",
       " 'ATTCGACGTAT',\n",
       " 'ATTCGACGTAT',\n",
       " 'ATTCGACGTAT',\n",
       " 'ATTCGACGTAT',\n",
       " 'ATTCGACGTAT',\n",
       " 'ATTCGACGTAT',\n",
       " 'ATTCGACGTAT',\n",
       " 'ATTCGACGTAT',\n",
       " 'ATTCGACGTA*',\n",
       " 'ATTCGACGT*',\n",
       " 'ATTCGACGT*',\n",
       " 'ATTCGACGT*',\n",
       " 'ATTCGACGT*',\n",
       " 'ATTCGACGT*',\n",
       " 'ATTCGACGT*',\n",
       " 'ATTCGACGT*',\n",
       " 'ATTCGACGT*',\n",
       " 'ATTCGACGT*',\n",
       " 'ATTCGACG*',\n",
       " 'ATTCGACG*',\n",
       " 'ATTCGACG*',\n",
       " 'ATTCGACG*',\n",
       " 'ATTCGACG*',\n",
       " 'ATTCGACG*',\n",
       " 'ATTCGAC*',\n",
       " 'ATTCGAC*',\n",
       " 'ATTCGAC*',\n",
       " 'ATTCGAC*',\n",
       " 'ATTCGAC*',\n",
       " 'ATTCGAC*',\n",
       " 'ATTCGAC*',\n",
       " 'ATTCGAC*',\n",
       " 'ATTCGAC*',\n",
       " 'ATTCGAC*',\n",
       " 'ATTCGA*',\n",
       " 'ATTCGA*',\n",
       " 'ATTCGA*',\n",
       " 'ATTCGA*',\n",
       " 'ATTCGA*',\n",
       " 'ATTCGA*',\n",
       " 'ATTCGA*',\n",
       " 'ATTCGA*',\n",
       " 'ATTCGA*',\n",
       " 'ATTCGA*',\n",
       " 'ATTCGA*',\n",
       " 'ATTCG*',\n",
       " 'ATTCG*',\n",
       " 'ATTCG*',\n",
       " 'ATTCG*',\n",
       " 'ATTCG*',\n",
       " 'ATTCG*',\n",
       " 'ATTCG*',\n",
       " 'ATTCG*',\n",
       " 'ATTCG*',\n",
       " 'ATTCG*',\n",
       " 'ATTCG*',\n",
       " 'ATTCG*',\n",
       " 'ATTC*',\n",
       " 'ATTC*',\n",
       " 'ATTC*',\n",
       " 'ATTC*',\n",
       " 'ATTC*',\n",
       " 'ATTC*',\n",
       " 'ATTC*',\n",
       " 'ATTC*',\n",
       " 'ATTC*',\n",
       " 'ATTC*',\n",
       " 'ATTC*',\n",
       " 'ATTC*',\n",
       " 'ATTC*',\n",
       " 'ATTC*',\n",
       " 'ATTC*',\n",
       " 'ATTC*']"
      ]
     },
     "execution_count": 116,
     "metadata": {},
     "output_type": "execute_result"
    }
   ],
   "source": [
    "# sort the results \n",
    "sorted_list = sorted(seq_list, key=len)[::-1]\n",
    "sorted_list"
   ]
  },
  {
   "cell_type": "code",
   "execution_count": 114,
   "id": "f31f67b1",
   "metadata": {},
   "outputs": [
    {
     "data": {
      "text/plain": [
       "Counter({'ATTCGACGTAT*': 1,\n",
       "         'ATTCGACGTA*': 5,\n",
       "         'ATTCGACGTAT': 30,\n",
       "         'ATTCGACGT*': 9,\n",
       "         'ATTCGACG*': 6,\n",
       "         'ATTCGAC*': 10,\n",
       "         'ATTCGA*': 11,\n",
       "         'ATTCG*': 12,\n",
       "         'ATTC*': 16})"
      ]
     },
     "execution_count": 114,
     "metadata": {},
     "output_type": "execute_result"
    }
   ],
   "source": [
    "Counter(sorted_list)"
   ]
  },
  {
   "cell_type": "code",
   "execution_count": 115,
   "id": "592858fe",
   "metadata": {},
   "outputs": [
    {
     "data": {
      "image/png": "[encoded data removed]",
      "text/plain": [
       "<Figure size 300x900 with 1 Axes>"
      ]
     },
     "metadata": {
      "needs_background": "light"
     },
     "output_type": "display_data"
    }
   ],
   "source": [
    "# Now we can simulate the result from our agarose gel\n",
    "results = Counter(sorted_list)\n",
    "\n",
    "lengths = []\n",
    "density = []\n",
    "colors = []\n",
    "\n",
    "color_dic ={\n",
    "    'A':'limegreen',\n",
    "    'T':'dodgerblue',\n",
    "    'G':'orange',\n",
    "    'C':'hotpink'\n",
    "}\n",
    "\n",
    "fig = plt.gcf()\n",
    "fig.set_size_inches(1, 3)\n",
    "fig.set_dpi(300)\n",
    "\n",
    "for i in results:\n",
    "    if '*' in i:\n",
    "        length = len(i)-1\n",
    "        density= results[i]\n",
    "        color = color_dic[i[-2]]\n",
    "        plt.barh(length,1.0,color=color, alpha=1.0)\n",
    "\n",
    "plt.title('Agarose gel', fontsize=16)\n",
    "plt.ylabel('Number of basepairs', fontsize=12)\n",
    "plt.xticks([])\n",
    "plt.xlim(0,1)\n",
    "custom_lines = [Line2D([0], [0], color='limegreen', lw=4),\n",
    "                Line2D([0], [0], color='dodgerblue', lw=4),\n",
    "                Line2D([0], [0], color='orange', lw=4),\n",
    "                Line2D([0], [0], color='hotpink', lw=4)]\n",
    "\n",
    "\n",
    "plt.legend(custom_lines, ['A', 'T', 'G', 'C'], loc='upper right', bbox_to_anchor=(-1, 0.4))\n",
    "plt.show()"
   ]
  },
  {
   "cell_type": "code",
   "execution_count": null,
   "id": "77b74121",
   "metadata": {},
   "outputs": [],
   "source": []
  }
 ],
 "metadata": {
  "kernelspec": {
   "display_name": "Python 3 (ipykernel)",
   "language": "python",
   "name": "python3"
  },
  "language_info": {
   "codemirror_mode": {
    "name": "ipython",
    "version": 3
   },
   "file_extension": ".py",
   "mimetype": "text/x-python",
   "name": "python",
   "nbconvert_exporter": "python",
   "pygments_lexer": "ipython3",
   "version": "3.9.7"
  }
 },
 "nbformat": 4,
 "nbformat_minor": 5
}
